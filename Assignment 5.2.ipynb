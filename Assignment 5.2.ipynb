{
 "cells": [
  {
   "cell_type": "code",
   "execution_count": null,
   "id": "f15c1e04",
   "metadata": {},
   "outputs": [],
   "source": [
    "5.2 Write a program that repeatedly prompts a user for integer numbers until the user enters 'done'.\n",
    "Once 'done' is entered,\n",
    "print out the largest and smallest of the numbers.\n",
    "If the user enters anything other than a valid number catch it with a try/except and put out an appropriate message and ignore the number.\n",
    "Enter 7, 2, bob, 10, and 4 and match the output below."
   ]
  },
  {
   "cell_type": "code",
   "execution_count": null,
   "id": "986c805c",
   "metadata": {},
   "outputs": [],
   "source": [
    "largest = None\n",
    "smallest = None\n",
    "\n",
    "while True:\n",
    "    user_input = input(\"Enter an integer (type 'done' to finish): \")\n",
    "\n",
    "    if user_input.lower() == 'done':\n",
    "        break\n",
    "\n",
    "    try:\n",
    "        number = int(user_input)\n",
    "\n",
    "        if largest is None or number > largest:\n",
    "            largest = number\n",
    "\n",
    "        if smallest is None or number < smallest:\n",
    "            smallest = number\n",
    "\n",
    "    except ValueError:\n",
    "        print(\"Invalid input\")\n",
    "\n",
    "if largest is not None and smallest is not None:\n",
    "    print(f\"Maximum is {largest}\")\n",
    "    print(f\"Minimum is {smallest}\")\n",
    "else:\n",
    "    print(\"No valid numbers entered.\")\n"
   ]
  }
 ],
 "metadata": {
  "kernelspec": {
   "display_name": "Python 3 (ipykernel)",
   "language": "python",
   "name": "python3"
  },
  "language_info": {
   "codemirror_mode": {
    "name": "ipython",
    "version": 3
   },
   "file_extension": ".py",
   "mimetype": "text/x-python",
   "name": "python",
   "nbconvert_exporter": "python",
   "pygments_lexer": "ipython3",
   "version": "3.11.5"
  }
 },
 "nbformat": 4,
 "nbformat_minor": 5
}
