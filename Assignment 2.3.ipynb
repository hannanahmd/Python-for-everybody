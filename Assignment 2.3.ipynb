{
 "cells": [
  {
   "cell_type": "code",
   "execution_count": null,
   "id": "b052a982",
   "metadata": {},
   "outputs": [],
   "source": [
    "2.3 Write a program to prompt the user for hours and rate per hour using input to compute gross pay.\n",
    "Use 35 hours and a rate of 2.75 per hour to test the program (the pay should be 96.25). \n",
    "You should use input to read a string and float() to convert the string to a number.\n",
    "Do not worry about error checking or bad user data."
   ]
  },
  {
   "cell_type": "code",
   "execution_count": 1,
   "id": "37ecc369",
   "metadata": {},
   "outputs": [
    {
     "name": "stdout",
     "output_type": "stream",
     "text": [
      "Enter hours worked: 35\n",
      "Enter rate per hour: 2.75\n",
      "Pay: 96.25\n"
     ]
    }
   ],
   "source": [
    "# Prompt the user for hours worked\n",
    "hours = input(\"Enter hours worked: \")\n",
    "\n",
    "# Prompt the user for the rate per hour\n",
    "rate_per_hour = input(\"Enter rate per hour: \")\n",
    "\n",
    "# Convert the input strings to numbers\n",
    "hours = float(hours)\n",
    "rate_per_hour = float(rate_per_hour)\n",
    "\n",
    "# Calculate the gross pay\n",
    "gross_pay = hours * rate_per_hour\n",
    "\n",
    "# Display the gross pay\n",
    "print(\"Pay:\", gross_pay)"
   ]
  },
  {
   "cell_type": "code",
   "execution_count": null,
   "id": "5cb3d728",
   "metadata": {},
   "outputs": [],
   "source": []
  }
 ],
 "metadata": {
  "kernelspec": {
   "display_name": "Python 3 (ipykernel)",
   "language": "python",
   "name": "python3"
  },
  "language_info": {
   "codemirror_mode": {
    "name": "ipython",
    "version": 3
   },
   "file_extension": ".py",
   "mimetype": "text/x-python",
   "name": "python",
   "nbconvert_exporter": "python",
   "pygments_lexer": "ipython3",
   "version": "3.11.5"
  }
 },
 "nbformat": 4,
 "nbformat_minor": 5
}
