{
 "cells": [
  {
   "cell_type": "code",
   "execution_count": null,
   "id": "b692aded",
   "metadata": {},
   "outputs": [],
   "source": [
    "3.1 Write a program to prompt the user for hours and rate per hour using input to compute gross pay.\n",
    "Pay the hourly rate for the hours up to 40 and 1.5 times the hourly rate for all hours worked above 40 hours. \n",
    "Use 45 hours and a rate of 10.50 per hour to test the program (the pay should be 498.75). \n",
    "You should use input to read a string and float() to convert the string to a number.\n",
    "Do not worry about error checking the user input - assume the user types numbers properly."
   ]
  },
  {
   "cell_type": "code",
   "execution_count": null,
   "id": "b01103f1",
   "metadata": {},
   "outputs": [],
   "source": [
    "# Prompt the user for hours worked\n",
    "hours = input(\"Enter hours worked: \")\n",
    "\n",
    "# Prompt the user for the rate per hour\n",
    "rate_per_hour = input(\"Enter rate per hour: \")\n",
    "\n",
    "# Convert the input strings to numbers\n",
    "hours = float(hours)\n",
    "rate_per_hour = float(rate_per_hour)\n",
    "\n",
    "# Calculate regular and overtime pay\n",
    "if hours <= 40:\n",
    "    gross_pay = hours * rate_per_hour\n",
    "else:\n",
    "    regular_hours = 40\n",
    "    overtime_hours = hours - 40\n",
    "    gross_pay = (regular_hours * rate_per_hour) + (overtime_hours * 1.5 * rate_per_hour)\n",
    "\n",
    "# Display the gross pay\n",
    "print(gross_pay)\n"
   ]
  }
 ],
 "metadata": {
  "kernelspec": {
   "display_name": "Python 3 (ipykernel)",
   "language": "python",
   "name": "python3"
  },
  "language_info": {
   "codemirror_mode": {
    "name": "ipython",
    "version": 3
   },
   "file_extension": ".py",
   "mimetype": "text/x-python",
   "name": "python",
   "nbconvert_exporter": "python",
   "pygments_lexer": "ipython3",
   "version": "3.11.5"
  }
 },
 "nbformat": 4,
 "nbformat_minor": 5
}
