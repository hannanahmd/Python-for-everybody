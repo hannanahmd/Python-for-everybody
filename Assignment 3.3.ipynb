{
 "cells": [
  {
   "cell_type": "code",
   "execution_count": null,
   "id": "dd1fbadc",
   "metadata": {},
   "outputs": [],
   "source": [
    "3.3 Write a program to prompt for a score between 0.0 and 1.0. If the score is out of range, print an error.\n",
    "If the score is between 0.0 and 1.0, print a grade using the following table:\n",
    "Score Grade\n",
    ">= 0.9 A\n",
    ">= 0.8 B\n",
    ">= 0.7 C\n",
    ">= 0.6 D\n",
    "< 0.6 F\n",
    "If the user enters a value out of range, print a suitable error message and exit. \n",
    "For the test, enter a score of 0.85."
   ]
  },
  {
   "cell_type": "code",
   "execution_count": 1,
   "id": "97b47833",
   "metadata": {},
   "outputs": [
    {
     "name": "stdout",
     "output_type": "stream",
     "text": [
      "Enter a score between 0.0 and 1.0: 0.8\n",
      "B\n"
     ]
    }
   ],
   "source": [
    "# Prompt the user for a score\n",
    "score = input(\"Enter a score between 0.0 and 1.0: \")\n",
    "\n",
    "# Convert the input string to a float\n",
    "score = float(score)\n",
    "\n",
    "# Check if the score is within the valid range\n",
    "if 0.0 <= score <= 1.0:\n",
    "    # Assign a grade based on the score\n",
    "    if score >= 0.9:\n",
    "        grade = 'A'\n",
    "    elif score >= 0.8:\n",
    "        grade = 'B'\n",
    "    elif score >= 0.7:\n",
    "        grade = 'C'\n",
    "    elif score >= 0.6:\n",
    "        grade = 'D'\n",
    "    else:\n",
    "        grade = 'F'\n",
    "    \n",
    "    # Display the grade\n",
    "    print( grade)\n"
   ]
  },
  {
   "cell_type": "code",
   "execution_count": null,
   "id": "a15587f6",
   "metadata": {},
   "outputs": [],
   "source": []
  }
 ],
 "metadata": {
  "kernelspec": {
   "display_name": "Python 3 (ipykernel)",
   "language": "python",
   "name": "python3"
  },
  "language_info": {
   "codemirror_mode": {
    "name": "ipython",
    "version": 3
   },
   "file_extension": ".py",
   "mimetype": "text/x-python",
   "name": "python",
   "nbconvert_exporter": "python",
   "pygments_lexer": "ipython3",
   "version": "3.11.5"
  }
 },
 "nbformat": 4,
 "nbformat_minor": 5
}
