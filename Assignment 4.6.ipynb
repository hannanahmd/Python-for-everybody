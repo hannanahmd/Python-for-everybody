{
 "cells": [
  {
   "cell_type": "code",
   "execution_count": null,
   "id": "e4590301",
   "metadata": {},
   "outputs": [],
   "source": [
    "4.6 Write a program to prompt the user for hours and rate per hour using input to compute gross pay. \n",
    "Pay should be the normal rate for hours up to 40 and time-and-a-half for the hourly rate for all hours worked above 40 hours.\n",
    "Put the logic to do the computation of pay in a function called computepay() and use the function to do the computation.\n",
    "The function should return a value. Use 45 hours and a rate of 10.50 per hour to test the program (the pay should be 498.75).\n",
    "You should use input to read a string and float() to convert the string to a number.\n",
    "Do not worry about error checking the user input unless you want to - you can assume the user types numbers properly.\n",
    "Do not name your variable sum or use the sum() function."
   ]
  },
  {
   "cell_type": "code",
   "execution_count": null,
   "id": "92949ce0",
   "metadata": {},
   "outputs": [],
   "source": [
    "def computepay(hours, rate_per_hour):\n",
    "    if hours <= 40:\n",
    "        pay = hours * rate_per_hour\n",
    "    else:\n",
    "        regular_hours = 40\n",
    "        overtime_hours = hours - 40\n",
    "        pay = (regular_hours * rate_per_hour) + (overtime_hours * 1.5 * rate_per_hour)\n",
    "    return pay\n",
    "\n",
    "# Prompt the user for hours worked\n",
    "hours_input = input(\"Enter hours worked: \")\n",
    "\n",
    "# Prompt the user for the rate per hour\n",
    "rate_per_hour_input = input(\"Enter rate per hour: \")\n",
    "\n",
    "# Convert the input strings to numbers\n",
    "hours = float(hours_input)\n",
    "rate_per_hour = float(rate_per_hour_input)\n",
    "\n",
    "# Call the computepay() function and display the result\n",
    "gross_pay = computepay(hours, rate_per_hour)\n",
    "print(\"Pay\", gross_pay)\n"
   ]
  }
 ],
 "metadata": {
  "kernelspec": {
   "display_name": "Python 3 (ipykernel)",
   "language": "python",
   "name": "python3"
  },
  "language_info": {
   "codemirror_mode": {
    "name": "ipython",
    "version": 3
   },
   "file_extension": ".py",
   "mimetype": "text/x-python",
   "name": "python",
   "nbconvert_exporter": "python",
   "pygments_lexer": "ipython3",
   "version": "3.11.5"
  }
 },
 "nbformat": 4,
 "nbformat_minor": 5
}
