{
 "cells": [
  {
   "cell_type": "code",
   "execution_count": 1,
   "id": "4c75d649",
   "metadata": {},
   "outputs": [
    {
     "ename": "SyntaxError",
     "evalue": "invalid syntax (416504066.py, line 1)",
     "output_type": "error",
     "traceback": [
      "\u001b[1;36m  Cell \u001b[1;32mIn[1], line 1\u001b[1;36m\u001b[0m\n\u001b[1;33m    2.2 Write a program that uses input to prompt a user for their name\u001b[0m\n\u001b[1;37m        ^\u001b[0m\n\u001b[1;31mSyntaxError\u001b[0m\u001b[1;31m:\u001b[0m invalid syntax\n"
     ]
    }
   ],
   "source": [
    "2.2 Write a program that uses input to prompt a user for their name\n",
    "and then welcomes them. Note that input will pop up a dialog box. \n",
    "Enter Sarah in the pop-up box when you are prompted so your output will match the desired output."
   ]
  },
  {
   "cell_type": "code",
   "execution_count": 2,
   "id": "07afb9e0",
   "metadata": {},
   "outputs": [
    {
     "name": "stdout",
     "output_type": "stream",
     "text": [
      "Please enter your name: Sarah\n",
      "Hello Sarah\n"
     ]
    }
   ],
   "source": [
    "# Prompt the user for their name\n",
    "name = input(\"Please enter your name: \")\n",
    "\n",
    "# Greet the user\n",
    "print(\"Hello \" + name )"
   ]
  },
  {
   "cell_type": "code",
   "execution_count": null,
   "id": "76700288",
   "metadata": {},
   "outputs": [],
   "source": []
  }
 ],
 "metadata": {
  "kernelspec": {
   "display_name": "Python 3 (ipykernel)",
   "language": "python",
   "name": "python3"
  },
  "language_info": {
   "codemirror_mode": {
    "name": "ipython",
    "version": 3
   },
   "file_extension": ".py",
   "mimetype": "text/x-python",
   "name": "python",
   "nbconvert_exporter": "python",
   "pygments_lexer": "ipython3",
   "version": "3.11.5"
  }
 },
 "nbformat": 4,
 "nbformat_minor": 5
}
